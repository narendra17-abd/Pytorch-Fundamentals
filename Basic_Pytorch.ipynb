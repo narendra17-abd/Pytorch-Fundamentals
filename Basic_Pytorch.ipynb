{
  "nbformat": 4,
  "nbformat_minor": 0,
  "metadata": {
    "colab": {
      "provenance": [],
      "authorship_tag": "ABX9TyO9DuLrJSLq5GBbjXXTuFnC"
    },
    "kernelspec": {
      "name": "python3",
      "display_name": "Python 3"
    },
    "language_info": {
      "name": "python"
    }
  },
  "cells": [
    {
      "cell_type": "code",
      "execution_count": 1,
      "metadata": {
        "id": "JnHEVOnqk7PK"
      },
      "outputs": [],
      "source": [
        "import torch"
      ]
    },
    {
      "cell_type": "code",
      "source": [
        "print(torch.__version__)"
      ],
      "metadata": {
        "colab": {
          "base_uri": "https://localhost:8080/"
        },
        "id": "9PoELMrwlI0A",
        "outputId": "f6943942-9517-4489-b602-6e7188e72891"
      },
      "execution_count": 2,
      "outputs": [
        {
          "output_type": "stream",
          "name": "stdout",
          "text": [
            "2.1.0+cu121\n"
          ]
        }
      ]
    },
    {
      "cell_type": "code",
      "source": [
        "#The tensors are created using the torch.tensor()"
      ],
      "metadata": {
        "id": "6ptO6wbjlua1"
      },
      "execution_count": null,
      "outputs": []
    },
    {
      "cell_type": "code",
      "source": [
        "scalar=torch.tensor(9)\n",
        "scalar"
      ],
      "metadata": {
        "colab": {
          "base_uri": "https://localhost:8080/"
        },
        "id": "dkHi3MtxlPvq",
        "outputId": "9e5fded0-b08a-4fdd-d522-3eb5a3a3d2e9"
      },
      "execution_count": 3,
      "outputs": [
        {
          "output_type": "execute_result",
          "data": {
            "text/plain": [
              "tensor(9)"
            ]
          },
          "metadata": {},
          "execution_count": 3
        }
      ]
    },
    {
      "cell_type": "code",
      "source": [
        "# to get the tensor back as a integer of python"
      ],
      "metadata": {
        "id": "Fw1iie9Ml7Ki"
      },
      "execution_count": null,
      "outputs": []
    },
    {
      "cell_type": "code",
      "source": [
        "scalar.item()"
      ],
      "metadata": {
        "colab": {
          "base_uri": "https://localhost:8080/"
        },
        "id": "mtRyjhtEmE03",
        "outputId": "13a6b31b-cc31-408f-f6fa-d354926fdfee"
      },
      "execution_count": 4,
      "outputs": [
        {
          "output_type": "execute_result",
          "data": {
            "text/plain": [
              "9"
            ]
          },
          "metadata": {},
          "execution_count": 4
        }
      ]
    },
    {
      "cell_type": "code",
      "source": [
        "# number of dimensions\n",
        "scalar.ndim"
      ],
      "metadata": {
        "colab": {
          "base_uri": "https://localhost:8080/"
        },
        "id": "WIpyXcCgmIY8",
        "outputId": "2f18612e-1029-4893-f140-9e11378e324a"
      },
      "execution_count": 6,
      "outputs": [
        {
          "output_type": "execute_result",
          "data": {
            "text/plain": [
              "0"
            ]
          },
          "metadata": {},
          "execution_count": 6
        }
      ]
    },
    {
      "cell_type": "code",
      "source": [
        "# shape\n",
        "scalar.shape"
      ],
      "metadata": {
        "colab": {
          "base_uri": "https://localhost:8080/"
        },
        "id": "IuWduyW6mb7q",
        "outputId": "a8528de5-f3db-4ae2-c55c-f2a15a0760d9"
      },
      "execution_count": 7,
      "outputs": [
        {
          "output_type": "execute_result",
          "data": {
            "text/plain": [
              "torch.Size([])"
            ]
          },
          "metadata": {},
          "execution_count": 7
        }
      ]
    },
    {
      "cell_type": "code",
      "source": [
        "vector=torch.tensor([1,2])\n",
        "vector"
      ],
      "metadata": {
        "colab": {
          "base_uri": "https://localhost:8080/"
        },
        "id": "8cVUxmLXmhls",
        "outputId": "56f68985-733f-4d88-cc03-eb7cda7f2fe9"
      },
      "execution_count": 8,
      "outputs": [
        {
          "output_type": "execute_result",
          "data": {
            "text/plain": [
              "tensor([1, 2])"
            ]
          },
          "metadata": {},
          "execution_count": 8
        }
      ]
    },
    {
      "cell_type": "code",
      "source": [
        "# lets check shape and dimenions of the vector\n",
        "vector.shape"
      ],
      "metadata": {
        "colab": {
          "base_uri": "https://localhost:8080/"
        },
        "id": "V0UsF3cgmrbo",
        "outputId": "fe3317fe-89e2-430b-ba10-ea9cf4de2153"
      },
      "execution_count": 11,
      "outputs": [
        {
          "output_type": "execute_result",
          "data": {
            "text/plain": [
              "torch.Size([2])"
            ]
          },
          "metadata": {},
          "execution_count": 11
        }
      ]
    },
    {
      "cell_type": "markdown",
      "source": [
        "vector.ndim"
      ],
      "metadata": {
        "id": "0-ueEAEqm6DL"
      }
    },
    {
      "cell_type": "code",
      "source": [
        " # now we try to build a matrix, check its shape and dimentions and try to access them"
      ],
      "metadata": {
        "id": "uJEy0G54nGn9"
      },
      "execution_count": null,
      "outputs": []
    },
    {
      "cell_type": "code",
      "source": [
        "m=torch.tensor([[1,2],[3,4]])\n",
        "m"
      ],
      "metadata": {
        "colab": {
          "base_uri": "https://localhost:8080/"
        },
        "id": "ALhZ2pbyo3hF",
        "outputId": "b0c159d2-2b76-4aad-9ac7-37325648e13d"
      },
      "execution_count": 14,
      "outputs": [
        {
          "output_type": "execute_result",
          "data": {
            "text/plain": [
              "tensor([[1, 2],\n",
              "        [3, 4]])"
            ]
          },
          "metadata": {},
          "execution_count": 14
        }
      ]
    },
    {
      "cell_type": "code",
      "source": [
        "m.shape"
      ],
      "metadata": {
        "colab": {
          "base_uri": "https://localhost:8080/"
        },
        "id": "Iih_Qlz1pEc9",
        "outputId": "0e8d6b0f-d218-4633-b548-bf5df24970e6"
      },
      "execution_count": 15,
      "outputs": [
        {
          "output_type": "execute_result",
          "data": {
            "text/plain": [
              "torch.Size([2, 2])"
            ]
          },
          "metadata": {},
          "execution_count": 15
        }
      ]
    },
    {
      "cell_type": "code",
      "source": [
        "m.ndim"
      ],
      "metadata": {
        "colab": {
          "base_uri": "https://localhost:8080/"
        },
        "id": "ZF4m35_VpI5S",
        "outputId": "1e3fac8a-44d9-437f-c1d7-0d7f2e86b800"
      },
      "execution_count": 16,
      "outputs": [
        {
          "output_type": "execute_result",
          "data": {
            "text/plain": [
              "2"
            ]
          },
          "metadata": {},
          "execution_count": 16
        }
      ]
    },
    {
      "cell_type": "code",
      "source": [
        "# as we know that we can compute millions of numerical data using pytorch lets increase the difficulty and try to understand better about the shapes and dimensions"
      ],
      "metadata": {
        "id": "Dgx3DF-7pOvh"
      },
      "execution_count": null,
      "outputs": []
    },
    {
      "cell_type": "code",
      "source": [
        "mat=torch.tensor([[[1,2,3],\n",
        "                   [4,5,6],\n",
        "                   [7,8,9]]])\n",
        "mat"
      ],
      "metadata": {
        "colab": {
          "base_uri": "https://localhost:8080/"
        },
        "id": "FwV8gwiepk93",
        "outputId": "c5fa8a96-1e85-49a2-ac7a-ffbae7071df2"
      },
      "execution_count": 17,
      "outputs": [
        {
          "output_type": "execute_result",
          "data": {
            "text/plain": [
              "tensor([[[1, 2, 3],\n",
              "         [4, 5, 6],\n",
              "         [7, 8, 9]]])"
            ]
          },
          "metadata": {},
          "execution_count": 17
        }
      ]
    },
    {
      "cell_type": "code",
      "source": [
        "mat.ndim"
      ],
      "metadata": {
        "colab": {
          "base_uri": "https://localhost:8080/"
        },
        "id": "95cVOFMkp1CB",
        "outputId": "ee1c2f0e-971f-4e52-99ee-a8ba3c322aa2"
      },
      "execution_count": 19,
      "outputs": [
        {
          "output_type": "execute_result",
          "data": {
            "text/plain": [
              "3"
            ]
          },
          "metadata": {},
          "execution_count": 19
        }
      ]
    },
    {
      "cell_type": "code",
      "source": [
        "mat.shape"
      ],
      "metadata": {
        "colab": {
          "base_uri": "https://localhost:8080/"
        },
        "id": "hEuAiRjOp65F",
        "outputId": "dbe9974a-27fd-4485-9e2d-42f3f1d4a07f"
      },
      "execution_count": 20,
      "outputs": [
        {
          "output_type": "execute_result",
          "data": {
            "text/plain": [
              "torch.Size([1, 3, 3])"
            ]
          },
          "metadata": {},
          "execution_count": 20
        }
      ]
    },
    {
      "cell_type": "code",
      "source": [
        "# in the previous case we have seen that the dimention is [2,2] but now it shows [1,3,3]. It is a bit difficult to understand.\n",
        "# in the above dimension values the 1 represents the outer most square bracket and 3 represents the next and the next 3 represents the next"
      ],
      "metadata": {
        "id": "hhvI8wjaqBdx"
      },
      "execution_count": null,
      "outputs": []
    },
    {
      "cell_type": "code",
      "source": [
        "# lets try indexing"
      ],
      "metadata": {
        "id": "LZyLqiq2q428"
      },
      "execution_count": null,
      "outputs": []
    },
    {
      "cell_type": "code",
      "source": [
        "mat[0]"
      ],
      "metadata": {
        "colab": {
          "base_uri": "https://localhost:8080/"
        },
        "id": "Hvgy9fXpq7T9",
        "outputId": "331732c0-eb9c-4398-ca75-f49e64e8eaf5"
      },
      "execution_count": 21,
      "outputs": [
        {
          "output_type": "execute_result",
          "data": {
            "text/plain": [
              "tensor([[1, 2, 3],\n",
              "        [4, 5, 6],\n",
              "        [7, 8, 9]])"
            ]
          },
          "metadata": {},
          "execution_count": 21
        }
      ]
    },
    {
      "cell_type": "code",
      "source": [
        "matt=torch.tensor([[[[1,2],\n",
        "                     [3,4],\n",
        "                     [5,6],\n",
        "                     [7,8]]]])\n",
        "matt"
      ],
      "metadata": {
        "colab": {
          "base_uri": "https://localhost:8080/"
        },
        "id": "ergGTj-prAvz",
        "outputId": "7f5decbd-a856-4214-d7a2-1b5403cb5ea7"
      },
      "execution_count": 25,
      "outputs": [
        {
          "output_type": "execute_result",
          "data": {
            "text/plain": [
              "tensor([[[[1, 2],\n",
              "          [3, 4],\n",
              "          [5, 6],\n",
              "          [7, 8]]]])"
            ]
          },
          "metadata": {},
          "execution_count": 25
        }
      ]
    },
    {
      "cell_type": "code",
      "source": [
        "matt.ndim"
      ],
      "metadata": {
        "colab": {
          "base_uri": "https://localhost:8080/"
        },
        "id": "742g7Kp8rYkh",
        "outputId": "8b080ce7-ef9e-47a3-97e4-d7469e64c8da"
      },
      "execution_count": 26,
      "outputs": [
        {
          "output_type": "execute_result",
          "data": {
            "text/plain": [
              "4"
            ]
          },
          "metadata": {},
          "execution_count": 26
        }
      ]
    },
    {
      "cell_type": "code",
      "source": [
        "# I think with this example we can better understand the dimensions of the tensors\n",
        "matt.shape\n"
      ],
      "metadata": {
        "colab": {
          "base_uri": "https://localhost:8080/"
        },
        "id": "_IrSZa5Brejs",
        "outputId": "4eca81f3-418d-493c-e5e7-ffed55362767"
      },
      "execution_count": 27,
      "outputs": [
        {
          "output_type": "execute_result",
          "data": {
            "text/plain": [
              "torch.Size([1, 1, 4, 2])"
            ]
          },
          "metadata": {},
          "execution_count": 27
        }
      ]
    },
    {
      "cell_type": "markdown",
      "source": [
        "# lets create a tensor with random values\n"
      ],
      "metadata": {
        "id": "t_3-UasBtREn"
      }
    },
    {
      "cell_type": "code",
      "source": [
        "r=torch.rand(2,3)\n",
        "r"
      ],
      "metadata": {
        "colab": {
          "base_uri": "https://localhost:8080/"
        },
        "id": "9IzS7QOGtYVz",
        "outputId": "c0c49154-b621-42d9-f7cb-3df8131f82e7"
      },
      "execution_count": 29,
      "outputs": [
        {
          "output_type": "execute_result",
          "data": {
            "text/plain": [
              "tensor([[0.8779, 0.2647, 0.7646],\n",
              "        [0.3751, 0.2837, 0.1231]])"
            ]
          },
          "metadata": {},
          "execution_count": 29
        }
      ]
    },
    {
      "cell_type": "code",
      "source": [
        "re=torch.rand(5,5,5)\n",
        "re"
      ],
      "metadata": {
        "colab": {
          "base_uri": "https://localhost:8080/"
        },
        "id": "AQ4rSU36thdp",
        "outputId": "4539d1ff-14e7-4926-a434-085708aad051"
      },
      "execution_count": 30,
      "outputs": [
        {
          "output_type": "execute_result",
          "data": {
            "text/plain": [
              "tensor([[[0.6503, 0.4471, 0.4786, 0.0586, 0.1569],\n",
              "         [0.7632, 0.2948, 0.4343, 0.6423, 0.8872],\n",
              "         [0.8164, 0.1757, 0.4596, 0.8784, 0.4572],\n",
              "         [0.7151, 0.5349, 0.4325, 0.3502, 0.1688],\n",
              "         [0.7799, 0.4776, 0.0845, 0.3193, 0.6351]],\n",
              "\n",
              "        [[0.0020, 0.8581, 0.6925, 0.2964, 0.7564],\n",
              "         [0.4778, 0.0783, 0.3955, 0.7766, 0.5854],\n",
              "         [0.8535, 0.4614, 0.7852, 0.1051, 0.1260],\n",
              "         [0.1220, 0.8365, 0.0791, 0.3042, 0.2480],\n",
              "         [0.4538, 0.0578, 0.0842, 0.0775, 0.5636]],\n",
              "\n",
              "        [[0.0162, 0.2555, 0.4834, 0.5958, 0.0624],\n",
              "         [0.9422, 0.7187, 0.3963, 0.6484, 0.8808],\n",
              "         [0.0114, 0.6649, 0.9366, 0.9112, 0.1000],\n",
              "         [0.3610, 0.3838, 0.8750, 0.8483, 0.5525],\n",
              "         [0.4968, 0.0493, 0.1856, 0.9247, 0.3100]],\n",
              "\n",
              "        [[0.4801, 0.0251, 0.3396, 0.3910, 0.6920],\n",
              "         [0.6260, 0.8422, 0.2120, 0.3793, 0.9392],\n",
              "         [0.6342, 0.7507, 0.6927, 0.8682, 0.9529],\n",
              "         [0.5469, 0.4539, 0.0848, 0.7823, 0.2714],\n",
              "         [0.3054, 0.0691, 0.9001, 0.4431, 0.4485]],\n",
              "\n",
              "        [[0.4925, 0.8519, 0.5352, 0.0744, 0.9213],\n",
              "         [0.3533, 0.8344, 0.2309, 0.2372, 0.7126],\n",
              "         [0.2913, 0.2137, 0.5069, 0.6707, 0.1342],\n",
              "         [0.2585, 0.1609, 0.9636, 0.0147, 0.4146],\n",
              "         [0.5382, 0.5088, 0.4861, 0.6788, 0.2014]]])"
            ]
          },
          "metadata": {},
          "execution_count": 30
        }
      ]
    },
    {
      "cell_type": "code",
      "source": [
        "re.shape"
      ],
      "metadata": {
        "colab": {
          "base_uri": "https://localhost:8080/"
        },
        "id": "NXDphr2stp1D",
        "outputId": "3c8645be-19c5-47fc-dae4-859dd1493bfc"
      },
      "execution_count": 31,
      "outputs": [
        {
          "output_type": "execute_result",
          "data": {
            "text/plain": [
              "torch.Size([5, 5, 5])"
            ]
          },
          "metadata": {},
          "execution_count": 31
        }
      ]
    },
    {
      "cell_type": "code",
      "source": [
        "# the default data type for random tensor is float32\n",
        "re.dtype"
      ],
      "metadata": {
        "colab": {
          "base_uri": "https://localhost:8080/"
        },
        "id": "KiwRyNlkvMVt",
        "outputId": "5b15fc5e-40b8-4277-9424-935114603f09"
      },
      "execution_count": 34,
      "outputs": [
        {
          "output_type": "execute_result",
          "data": {
            "text/plain": [
              "torch.float32"
            ]
          },
          "metadata": {},
          "execution_count": 34
        }
      ]
    },
    {
      "cell_type": "markdown",
      "source": [
        "# what is the use of random tensors??\n",
        "# The first step of neural networks is to generate the random numbers then look at the data and then they update the values again and again"
      ],
      "metadata": {
        "id": "lI0li4y8tuZR"
      }
    },
    {
      "cell_type": "markdown",
      "source": [
        "# lets create the tensors with only zeroes and ones"
      ],
      "metadata": {
        "id": "TtqpwSetuP9t"
      }
    },
    {
      "cell_type": "code",
      "source": [
        "z=torch.zeros(size=(4,4))\n",
        "z"
      ],
      "metadata": {
        "colab": {
          "base_uri": "https://localhost:8080/"
        },
        "id": "2s20WZ8pu9cX",
        "outputId": "67c1599b-3ff6-4263-9046-703d6d740852"
      },
      "execution_count": 33,
      "outputs": [
        {
          "output_type": "execute_result",
          "data": {
            "text/plain": [
              "tensor([[0., 0., 0., 0.],\n",
              "        [0., 0., 0., 0.],\n",
              "        [0., 0., 0., 0.],\n",
              "        [0., 0., 0., 0.]])"
            ]
          },
          "metadata": {},
          "execution_count": 33
        }
      ]
    },
    {
      "cell_type": "code",
      "source": [
        "o=torch.ones(7,3)\n",
        "o"
      ],
      "metadata": {
        "colab": {
          "base_uri": "https://localhost:8080/"
        },
        "id": "OpDIVU6OvXS_",
        "outputId": "7b04dc91-1e9f-4638-f60c-9d60abbc3fee"
      },
      "execution_count": 36,
      "outputs": [
        {
          "output_type": "execute_result",
          "data": {
            "text/plain": [
              "tensor([[1., 1., 1.],\n",
              "        [1., 1., 1.],\n",
              "        [1., 1., 1.],\n",
              "        [1., 1., 1.],\n",
              "        [1., 1., 1.],\n",
              "        [1., 1., 1.],\n",
              "        [1., 1., 1.]])"
            ]
          },
          "metadata": {},
          "execution_count": 36
        }
      ]
    },
    {
      "cell_type": "code",
      "source": [
        "# lets check the default data types\n",
        "z.dtype\n",
        "o.dtype"
      ],
      "metadata": {
        "colab": {
          "base_uri": "https://localhost:8080/"
        },
        "id": "wohrtCIevfC0",
        "outputId": "fd1deb5f-4f5d-4e43-c3f1-0f96bc1d3347"
      },
      "execution_count": 37,
      "outputs": [
        {
          "output_type": "execute_result",
          "data": {
            "text/plain": [
              "torch.float32"
            ]
          },
          "metadata": {},
          "execution_count": 37
        }
      ]
    },
    {
      "cell_type": "markdown",
      "source": [
        "# Create a tensor with a range"
      ],
      "metadata": {
        "id": "jPc3581dxTuD"
      }
    },
    {
      "cell_type": "code",
      "source": [
        "x=torch.range(1,10)\n",
        "x"
      ],
      "metadata": {
        "colab": {
          "base_uri": "https://localhost:8080/"
        },
        "id": "OhJkJ8KExY-0",
        "outputId": "0fc3d2ec-08a1-48ab-ffa5-7613cc8bcae1"
      },
      "execution_count": 39,
      "outputs": [
        {
          "output_type": "stream",
          "name": "stderr",
          "text": [
            "<ipython-input-39-67fdbf106b23>:1: UserWarning: torch.range is deprecated and will be removed in a future release because its behavior is inconsistent with Python's range builtin. Instead, use torch.arange, which produces values in [start, end).\n",
            "  x=torch.range(1,10)\n"
          ]
        },
        {
          "output_type": "execute_result",
          "data": {
            "text/plain": [
              "tensor([ 1.,  2.,  3.,  4.,  5.,  6.,  7.,  8.,  9., 10.])"
            ]
          },
          "metadata": {},
          "execution_count": 39
        }
      ]
    },
    {
      "cell_type": "code",
      "source": [
        "x=torch.arange(1,10)\n",
        "x"
      ],
      "metadata": {
        "colab": {
          "base_uri": "https://localhost:8080/"
        },
        "id": "1zwTbsOixoG8",
        "outputId": "66c06f28-1049-44e5-8385-9858fe593181"
      },
      "execution_count": 41,
      "outputs": [
        {
          "output_type": "execute_result",
          "data": {
            "text/plain": [
              "tensor([1, 2, 3, 4, 5, 6, 7, 8, 9])"
            ]
          },
          "metadata": {},
          "execution_count": 41
        }
      ]
    },
    {
      "cell_type": "code",
      "source": [
        "# as we can see the older version of range is deprecated and replaced with a new arange\n",
        "# not only the above way we can print tensors with step differnce between them"
      ],
      "metadata": {
        "id": "TQgRp3o9x1i8"
      },
      "execution_count": null,
      "outputs": []
    },
    {
      "cell_type": "code",
      "source": [
        "x=torch.arange(start=0, end=100, step=5)\n",
        "x"
      ],
      "metadata": {
        "colab": {
          "base_uri": "https://localhost:8080/"
        },
        "id": "cckmUyb2yK3T",
        "outputId": "06a97d2c-a5be-40cd-8099-bbcddfc824de"
      },
      "execution_count": 42,
      "outputs": [
        {
          "output_type": "execute_result",
          "data": {
            "text/plain": [
              "tensor([ 0,  5, 10, 15, 20, 25, 30, 35, 40, 45, 50, 55, 60, 65, 70, 75, 80, 85,\n",
              "        90, 95])"
            ]
          },
          "metadata": {},
          "execution_count": 42
        }
      ]
    },
    {
      "cell_type": "code",
      "source": [
        "# as we can observe the end is not included."
      ],
      "metadata": {
        "id": "hDh_xKNVyX1U"
      },
      "execution_count": null,
      "outputs": []
    }
  ]
}